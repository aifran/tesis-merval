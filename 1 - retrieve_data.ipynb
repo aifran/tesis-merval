{
 "cells": [
  {
   "cell_type": "code",
   "execution_count": 1,
   "id": "perceived-indianapolis",
   "metadata": {},
   "outputs": [
    {
     "name": "stdout",
     "output_type": "stream",
     "text": [
      "/c/Users/frant/PycharmProjects/jupyterNotebook/venv/Scripts/python\n"
     ]
    }
   ],
   "source": [
    "!which python"
   ]
  },
  {
   "cell_type": "code",
   "execution_count": 2,
   "id": "genuine-missouri",
   "metadata": {},
   "outputs": [],
   "source": [
    "import os\n",
    "import sys\n",
    "main_path = os.path.abspath(os.path.join('..'))\n",
    "sys.path.append(main_path)"
   ]
  },
  {
   "cell_type": "code",
   "execution_count": 3,
   "id": "associate-penetration",
   "metadata": {},
   "outputs": [],
   "source": [
    "data_dir = os.getcwd().replace('Notebooks', 'data')"
   ]
  },
  {
   "cell_type": "code",
   "execution_count": 4,
   "id": "favorite-duration",
   "metadata": {},
   "outputs": [],
   "source": [
    "ticker_file = os.path.join( data_dir, \"possible_tickers.csv\")"
   ]
  },
  {
   "cell_type": "code",
   "execution_count": 5,
   "id": "cleared-proceeding",
   "metadata": {},
   "outputs": [],
   "source": [
    "import pandas as pd\n",
    "import datetime\n",
    "import yfinance as yf\n",
    "from tqdm import tqdm"
   ]
  },
  {
   "cell_type": "code",
   "execution_count": 6,
   "id": "parental-august",
   "metadata": {},
   "outputs": [],
   "source": [
    "tickers = pd.read_csv(ticker_file)\n",
    "tickers.columns = ['symbol']"
   ]
  },
  {
   "cell_type": "code",
   "execution_count": 7,
   "id": "super-poker",
   "metadata": {},
   "outputs": [],
   "source": [
    "yahoo_tickers = tickers['symbol'].apply(lambda s: s + '.BA').to_list() + [\"^MERV\"]"
   ]
  },
  {
   "cell_type": "code",
   "execution_count": 8,
   "id": "tribal-catalog",
   "metadata": {},
   "outputs": [
    {
     "name": "stderr",
     "output_type": "stream",
     "text": [
      "\r",
      "  0%|                                                                                      | 0/114 [00:00<?, ?it/s]"
     ]
    },
    {
     "name": "stdout",
     "output_type": "stream",
     "text": [
      "0 : AGRO.BA,Agrometal S.A.I.\n"
     ]
    },
    {
     "name": "stderr",
     "output_type": "stream",
     "text": [
      "\r",
      "  1%|▋                                                                             | 1/114 [00:04<08:44,  4.64s/it]"
     ]
    },
    {
     "name": "stdout",
     "output_type": "stream",
     "text": [
      "1 : ALUA.BA,Aluar Aluminio Argentino S.A.I.C.\n"
     ]
    },
    {
     "name": "stderr",
     "output_type": "stream",
     "text": [
      "\r",
      "  2%|█▎                                                                            | 2/114 [00:09<08:24,  4.51s/it]"
     ]
    },
    {
     "name": "stdout",
     "output_type": "stream",
     "text": [
      "2 : APBR.BA,"
     ]
    },
    {
     "name": "stderr",
     "output_type": "stream",
     "text": [
      "\r",
      "  3%|██                                                                            | 3/114 [00:13<08:02,  4.35s/it]"
     ]
    },
    {
     "name": "stdout",
     "output_type": "stream",
     "text": [
      "3 : AUSO.BA,Autopistas Del Sol SA\n"
     ]
    },
    {
     "name": "stderr",
     "output_type": "stream",
     "text": [
      "\r",
      "  4%|██▋                                                                           | 4/114 [00:16<07:31,  4.11s/it]"
     ]
    },
    {
     "name": "stdout",
     "output_type": "stream",
     "text": [
      "4 : BBAR.BA,Banco BBVA Argentina S.A.\n"
     ]
    },
    {
     "name": "stderr",
     "output_type": "stream",
     "text": [
      "\r",
      "  4%|███▍                                                                          | 5/114 [00:21<07:52,  4.33s/it]"
     ]
    },
    {
     "name": "stdout",
     "output_type": "stream",
     "text": [
      "5 : BHIP.BA,Banco Hipotecario S.A.\n"
     ]
    },
    {
     "name": "stderr",
     "output_type": "stream",
     "text": [
      "\r",
      "  5%|████                                                                          | 6/114 [00:26<07:48,  4.34s/it]"
     ]
    },
    {
     "name": "stdout",
     "output_type": "stream",
     "text": [
      "6 : BMA.BA,Banco Macro S.A.\n"
     ]
    },
    {
     "name": "stderr",
     "output_type": "stream",
     "text": [
      "\r",
      "  6%|████▊                                                                         | 7/114 [00:29<07:27,  4.18s/it]"
     ]
    },
    {
     "name": "stdout",
     "output_type": "stream",
     "text": [
      "7 : BMA.5.BA,"
     ]
    },
    {
     "name": "stderr",
     "output_type": "stream",
     "text": [
      "\r",
      "  7%|█████▍                                                                        | 8/114 [00:34<07:36,  4.30s/it]"
     ]
    },
    {
     "name": "stdout",
     "output_type": "stream",
     "text": [
      "8 : BOLT.BA,Boldt S.A.\n"
     ]
    },
    {
     "name": "stderr",
     "output_type": "stream",
     "text": [
      "\r",
      "  8%|██████▏                                                                       | 9/114 [00:39<07:41,  4.40s/it]"
     ]
    },
    {
     "name": "stdout",
     "output_type": "stream",
     "text": [
      "9 : BPAT.BA,Banco Patagonia S.A.\n"
     ]
    },
    {
     "name": "stderr",
     "output_type": "stream",
     "text": [
      "\r",
      "  9%|██████▊                                                                      | 10/114 [00:42<07:11,  4.15s/it]"
     ]
    },
    {
     "name": "stdout",
     "output_type": "stream",
     "text": [
      "10 : BRIO.BA,Banco Santander Río S.A.\n"
     ]
    },
    {
     "name": "stderr",
     "output_type": "stream",
     "text": [
      "\r",
      " 10%|███████▍                                                                     | 11/114 [00:47<07:19,  4.26s/it]"
     ]
    },
    {
     "name": "stdout",
     "output_type": "stream",
     "text": [
      "11 : BRIO6.BA,Banco Santander Río S.A.\n"
     ]
    },
    {
     "name": "stderr",
     "output_type": "stream",
     "text": [
      "\r",
      " 11%|████████                                                                     | 12/114 [00:51<07:24,  4.36s/it]"
     ]
    },
    {
     "name": "stdout",
     "output_type": "stream",
     "text": [
      "12 : BYMA.BA,Bolsas y Mercados Argentinos S.A.\n"
     ]
    },
    {
     "name": "stderr",
     "output_type": "stream",
     "text": [
      "\r",
      " 11%|████████▊                                                                    | 13/114 [00:55<06:53,  4.09s/it]"
     ]
    },
    {
     "name": "stdout",
     "output_type": "stream",
     "text": [
      "13 : CADO.BA,Carlos Casado S.A.\n"
     ]
    },
    {
     "name": "stderr",
     "output_type": "stream",
     "text": [
      "\r",
      " 12%|█████████▍                                                                   | 14/114 [00:59<06:39,  4.00s/it]"
     ]
    },
    {
     "name": "stdout",
     "output_type": "stream",
     "text": [
      "14 : CAPU.BA,"
     ]
    },
    {
     "name": "stderr",
     "output_type": "stream",
     "text": [
      "\r",
      " 13%|██████████▏                                                                  | 15/114 [01:03<06:53,  4.18s/it]"
     ]
    },
    {
     "name": "stdout",
     "output_type": "stream",
     "text": [
      "15 : CAPX.BA,Capex S.A.\n"
     ]
    },
    {
     "name": "stderr",
     "output_type": "stream",
     "text": [
      "\r",
      " 14%|██████████▊                                                                  | 16/114 [01:07<06:43,  4.11s/it]"
     ]
    },
    {
     "name": "stdout",
     "output_type": "stream",
     "text": [
      "16 : CARC.BA,Carboclor S.A.\n"
     ]
    },
    {
     "name": "stderr",
     "output_type": "stream",
     "text": [
      "\r",
      " 15%|███████████▍                                                                 | 17/114 [01:10<06:14,  3.86s/it]"
     ]
    },
    {
     "name": "stdout",
     "output_type": "stream",
     "text": [
      "17 : CECO2.BA,Enel Generación Costanera S.A.\n"
     ]
    },
    {
     "name": "stderr",
     "output_type": "stream",
     "text": [
      "\r",
      " 16%|████████████▏                                                                | 18/114 [01:14<06:15,  3.91s/it]"
     ]
    },
    {
     "name": "stdout",
     "output_type": "stream",
     "text": [
      "18 : CELU.BA,Celulosa Argentina S.A.\n"
     ]
    },
    {
     "name": "stderr",
     "output_type": "stream",
     "text": [
      "\r",
      " 17%|████████████▊                                                                | 19/114 [01:19<06:31,  4.12s/it]"
     ]
    },
    {
     "name": "stdout",
     "output_type": "stream",
     "text": [
      "19 : CEPU.BA,Central Puerto S.A.\n"
     ]
    },
    {
     "name": "stderr",
     "output_type": "stream",
     "text": [
      "\r",
      " 18%|█████████████▌                                                               | 20/114 [01:24<06:57,  4.44s/it]"
     ]
    },
    {
     "name": "stdout",
     "output_type": "stream",
     "text": [
      "20 : CEPU2.BA,"
     ]
    },
    {
     "name": "stderr",
     "output_type": "stream",
     "text": [
      "\r",
      " 18%|██████████████▏                                                              | 21/114 [01:27<06:20,  4.09s/it]"
     ]
    },
    {
     "name": "stdout",
     "output_type": "stream",
     "text": [
      "21 : CGPA2.BA,Camuzzi Gas Pampeana S.A.\n"
     ]
    },
    {
     "name": "stderr",
     "output_type": "stream",
     "text": [
      "\r",
      " 19%|██████████████▊                                                              | 22/114 [01:31<06:06,  3.98s/it]"
     ]
    },
    {
     "name": "stdout",
     "output_type": "stream",
     "text": [
      "22 : CHAS.BA,"
     ]
    },
    {
     "name": "stderr",
     "output_type": "stream",
     "text": [
      "\r",
      " 20%|███████████████▌                                                             | 23/114 [01:36<06:22,  4.21s/it]"
     ]
    },
    {
     "name": "stdout",
     "output_type": "stream",
     "text": [
      "23 : COLO.BA,"
     ]
    },
    {
     "name": "stderr",
     "output_type": "stream",
     "text": [
      "\r",
      " 21%|████████████████▏                                                            | 24/114 [01:40<06:11,  4.13s/it]"
     ]
    },
    {
     "name": "stdout",
     "output_type": "stream",
     "text": [
      "24 : COME.BA,Sociedad Comercial del Plata S.A.\n"
     ]
    },
    {
     "name": "stderr",
     "output_type": "stream",
     "text": [
      "\r",
      " 22%|████████████████▉                                                            | 25/114 [01:44<05:59,  4.04s/it]"
     ]
    },
    {
     "name": "stdout",
     "output_type": "stream",
     "text": [
      "25 : COMO.BA,"
     ]
    },
    {
     "name": "stderr",
     "output_type": "stream",
     "text": [
      "\r",
      " 23%|█████████████████▌                                                           | 26/114 [01:48<06:13,  4.25s/it]"
     ]
    },
    {
     "name": "stdout",
     "output_type": "stream",
     "text": [
      "26 : COUR.BA,"
     ]
    },
    {
     "name": "stderr",
     "output_type": "stream",
     "text": [
      "\r",
      " 24%|██████████████████▏                                                          | 27/114 [01:52<05:43,  3.95s/it]"
     ]
    },
    {
     "name": "stdout",
     "output_type": "stream",
     "text": [
      "27 : CRES.BA,Cresud Sociedad Anónima Comercial, Inmobiliaria, Financiera y Agropecuaria\n"
     ]
    },
    {
     "name": "stderr",
     "output_type": "stream",
     "text": [
      "\r",
      " 25%|██████████████████▉                                                          | 28/114 [01:55<05:30,  3.84s/it]"
     ]
    },
    {
     "name": "stdout",
     "output_type": "stream",
     "text": [
      "28 : CTGM.BA,"
     ]
    },
    {
     "name": "stderr",
     "output_type": "stream",
     "text": [
      "\r",
      " 25%|███████████████████▌                                                         | 29/114 [02:00<05:51,  4.14s/it]"
     ]
    },
    {
     "name": "stdout",
     "output_type": "stream",
     "text": [
      "29 : CTIO.BA,Consultatio S.A.\n"
     ]
    },
    {
     "name": "stderr",
     "output_type": "stream",
     "text": [
      "\r",
      " 26%|████████████████████▎                                                        | 30/114 [02:04<05:46,  4.12s/it]"
     ]
    },
    {
     "name": "stdout",
     "output_type": "stream",
     "text": [
      "30 : CVH.BA,Cablevisión Holding S.A.\n"
     ]
    },
    {
     "name": "stderr",
     "output_type": "stream",
     "text": [
      "\r",
      " 27%|████████████████████▉                                                        | 31/114 [02:09<05:48,  4.20s/it]"
     ]
    },
    {
     "name": "stdout",
     "output_type": "stream",
     "text": [
      "31 : DGCU2.BA,Distribuidora de Gas Cuyana S.A.\n"
     ]
    },
    {
     "name": "stderr",
     "output_type": "stream",
     "text": [
      "\r",
      " 28%|█████████████████████▌                                                       | 32/114 [02:12<05:32,  4.06s/it]"
     ]
    },
    {
     "name": "stdout",
     "output_type": "stream",
     "text": [
      "32 : DLAP.BA,"
     ]
    },
    {
     "name": "stderr",
     "output_type": "stream",
     "text": [
      "\r",
      " 29%|██████████████████████▎                                                      | 33/114 [02:19<06:22,  4.72s/it]"
     ]
    },
    {
     "name": "stdout",
     "output_type": "stream",
     "text": [
      "33 : DOME.BA,DOMEC Compañía de Artefactos Domésticos S.A.I.C.y F.\n"
     ]
    },
    {
     "name": "stderr",
     "output_type": "stream",
     "text": [
      "\r",
      " 30%|██████████████████████▉                                                      | 34/114 [02:22<05:58,  4.48s/it]"
     ]
    },
    {
     "name": "stdout",
     "output_type": "stream",
     "text": [
      "34 : DSUR.BA,"
     ]
    },
    {
     "name": "stderr",
     "output_type": "stream",
     "text": [
      "\r",
      " 31%|███████████████████████▋                                                     | 35/114 [02:27<05:55,  4.50s/it]"
     ]
    },
    {
     "name": "stdout",
     "output_type": "stream",
     "text": [
      "35 : DYCA.BA,DYCASA Sociedad Anónima\n"
     ]
    },
    {
     "name": "stderr",
     "output_type": "stream",
     "text": [
      "\r",
      " 32%|████████████████████████▎                                                    | 36/114 [02:31<05:37,  4.33s/it]"
     ]
    },
    {
     "name": "stdout",
     "output_type": "stream",
     "text": [
      "36 : EDLH.BA,Empresa Distribuidora San Luis Sociedad Anónima\n"
     ]
    },
    {
     "name": "stderr",
     "output_type": "stream",
     "text": [
      "\r",
      " 32%|████████████████████████▉                                                    | 37/114 [02:35<05:30,  4.29s/it]"
     ]
    },
    {
     "name": "stdout",
     "output_type": "stream",
     "text": [
      "37 : EDN.BA,Empresa Distribuidora y Comercializadora Norte Sociedad Anónima\n"
     ]
    },
    {
     "name": "stderr",
     "output_type": "stream",
     "text": [
      "\r",
      " 33%|█████████████████████████▋                                                   | 38/114 [02:40<05:36,  4.42s/it]"
     ]
    },
    {
     "name": "stdout",
     "output_type": "stream",
     "text": [
      "38 : EDSH.BA,"
     ]
    },
    {
     "name": "stderr",
     "output_type": "stream",
     "text": [
      "\r",
      " 34%|██████████████████████████▎                                                  | 39/114 [02:44<05:27,  4.37s/it]"
     ]
    },
    {
     "name": "stdout",
     "output_type": "stream",
     "text": [
      "39 : EMAC.BA,"
     ]
    },
    {
     "name": "stderr",
     "output_type": "stream",
     "text": [
      "\r",
      " 35%|███████████████████████████                                                  | 40/114 [02:48<05:18,  4.31s/it]"
     ]
    },
    {
     "name": "stdout",
     "output_type": "stream",
     "text": [
      "40 : EMDE.BA,Empresa Distribuidora Eléctrica Regional S.A.\n"
     ]
    },
    {
     "name": "stderr",
     "output_type": "stream",
     "text": [
      "\r",
      " 36%|███████████████████████████▋                                                 | 41/114 [02:52<04:57,  4.08s/it]"
     ]
    },
    {
     "name": "stdout",
     "output_type": "stream",
     "text": [
      "41 : ERAR.BA,"
     ]
    },
    {
     "name": "stderr",
     "output_type": "stream",
     "text": [
      "\r",
      " 37%|████████████████████████████▎                                                | 42/114 [02:54<04:20,  3.62s/it]"
     ]
    },
    {
     "name": "stdout",
     "output_type": "stream",
     "text": [
      "42 : ESME.BA,"
     ]
    },
    {
     "name": "stderr",
     "output_type": "stream",
     "text": [
      "\r",
      " 38%|█████████████████████████████                                                | 43/114 [02:58<04:22,  3.69s/it]"
     ]
    },
    {
     "name": "stdout",
     "output_type": "stream",
     "text": [
      "43 : ESTR.BA,"
     ]
    },
    {
     "name": "stderr",
     "output_type": "stream",
     "text": [
      "\r",
      " 39%|█████████████████████████████▋                                               | 44/114 [03:01<03:54,  3.35s/it]"
     ]
    },
    {
     "name": "stdout",
     "output_type": "stream",
     "text": [
      "44 : EURO.BA,"
     ]
    },
    {
     "name": "stderr",
     "output_type": "stream",
     "text": [
      "\r",
      " 39%|██████████████████████████████▍                                              | 45/114 [03:04<03:40,  3.20s/it]"
     ]
    },
    {
     "name": "stdout",
     "output_type": "stream",
     "text": [
      "45 : FERR.BA,Ferrum Sociedad Anonima de Ceramica y Metalurgia\n"
     ]
    },
    {
     "name": "stderr",
     "output_type": "stream",
     "text": [
      "\r",
      " 40%|███████████████████████████████                                              | 46/114 [03:08<04:02,  3.56s/it]"
     ]
    },
    {
     "name": "stdout",
     "output_type": "stream",
     "text": [
      "46 : FIPL.BA,Fiplasto S.A.\n"
     ]
    },
    {
     "name": "stderr",
     "output_type": "stream",
     "text": [
      "\r",
      " 41%|███████████████████████████████▋                                             | 47/114 [03:12<04:12,  3.77s/it]"
     ]
    },
    {
     "name": "stdout",
     "output_type": "stream",
     "text": [
      "47 : FRAN.BA,"
     ]
    },
    {
     "name": "stderr",
     "output_type": "stream",
     "text": [
      "\r",
      " 42%|████████████████████████████████▍                                            | 48/114 [03:17<04:24,  4.01s/it]"
     ]
    },
    {
     "name": "stdout",
     "output_type": "stream",
     "text": [
      "48 : GAMI.BA,B-Gaming S.A.\n"
     ]
    },
    {
     "name": "stderr",
     "output_type": "stream",
     "text": [
      "\r",
      " 43%|█████████████████████████████████                                            | 49/114 [03:20<04:08,  3.83s/it]"
     ]
    },
    {
     "name": "stdout",
     "output_type": "stream",
     "text": [
      "49 : GARO.BA,Garovaglio y Zorraquín S.A.\n"
     ]
    },
    {
     "name": "stderr",
     "output_type": "stream",
     "text": [
      "\r",
      " 44%|█████████████████████████████████▊                                           | 50/114 [03:24<04:12,  3.94s/it]"
     ]
    },
    {
     "name": "stdout",
     "output_type": "stream",
     "text": [
      "50 : GBAN.BA,Naturgy BAN, S.A.\n"
     ]
    },
    {
     "name": "stderr",
     "output_type": "stream",
     "text": [
      "\r",
      " 45%|██████████████████████████████████▍                                          | 51/114 [03:29<04:13,  4.02s/it]"
     ]
    },
    {
     "name": "stdout",
     "output_type": "stream",
     "text": [
      "51 : GCLA.BA,Grupo Clarín S.A.\n"
     ]
    },
    {
     "name": "stderr",
     "output_type": "stream",
     "text": [
      "\r",
      " 46%|███████████████████████████████████                                          | 52/114 [03:32<04:01,  3.90s/it]"
     ]
    },
    {
     "name": "stdout",
     "output_type": "stream",
     "text": [
      "52 : GGAL.BA,Grupo Financiero Galicia S.A.\n"
     ]
    },
    {
     "name": "stderr",
     "output_type": "stream",
     "text": [
      "\r",
      " 46%|███████████████████████████████████▊                                         | 53/114 [03:36<03:53,  3.82s/it]"
     ]
    },
    {
     "name": "stdout",
     "output_type": "stream",
     "text": [
      "53 : GGALD.BA,"
     ]
    },
    {
     "name": "stderr",
     "output_type": "stream",
     "text": [
      "\r",
      " 47%|████████████████████████████████████▍                                        | 54/114 [03:40<03:53,  3.89s/it]"
     ]
    },
    {
     "name": "stdout",
     "output_type": "stream",
     "text": [
      "54 : GRIM.BA,Grimoldi S.A.\n"
     ]
    },
    {
     "name": "stderr",
     "output_type": "stream",
     "text": [
      "\r",
      " 48%|█████████████████████████████████████▏                                       | 55/114 [03:45<04:04,  4.14s/it]"
     ]
    },
    {
     "name": "stdout",
     "output_type": "stream",
     "text": [
      "55 : HARG.BA,Holcim (Argentina) S.A.\n"
     ]
    },
    {
     "name": "stderr",
     "output_type": "stream",
     "text": [
      "\r",
      " 49%|█████████████████████████████████████▊                                       | 56/114 [03:48<03:53,  4.02s/it]"
     ]
    },
    {
     "name": "stdout",
     "output_type": "stream",
     "text": [
      "56 : HAVA.BA,Havanna Holding S.A.\n"
     ]
    },
    {
     "name": "stderr",
     "output_type": "stream",
     "text": [
      "\r",
      " 50%|██████████████████████████████████████▌                                      | 57/114 [03:53<04:01,  4.23s/it]"
     ]
    },
    {
     "name": "stdout",
     "output_type": "stream",
     "text": [
      "57 : HULI.BA,Hulytego S.A.I.C.\n"
     ]
    },
    {
     "name": "stderr",
     "output_type": "stream",
     "text": [
      "\r",
      " 51%|███████████████████████████████████████▏                                     | 58/114 [03:56<03:41,  3.95s/it]"
     ]
    },
    {
     "name": "stdout",
     "output_type": "stream",
     "text": [
      "58 : IEBA.BA,"
     ]
    },
    {
     "name": "stderr",
     "output_type": "stream",
     "text": [
      "\r",
      " 52%|███████████████████████████████████████▊                                     | 59/114 [04:01<03:51,  4.21s/it]"
     ]
    },
    {
     "name": "stdout",
     "output_type": "stream",
     "text": [
      "59 : INAG.BA,Insumos Agroquímicos S.A.\n"
     ]
    },
    {
     "name": "stderr",
     "output_type": "stream",
     "text": [
      "\r",
      " 53%|████████████████████████████████████████▌                                    | 60/114 [04:06<03:51,  4.30s/it]"
     ]
    },
    {
     "name": "stdout",
     "output_type": "stream",
     "text": [
      "60 : INDU.BA,"
     ]
    },
    {
     "name": "stderr",
     "output_type": "stream",
     "text": [
      "\r",
      " 54%|█████████████████████████████████████████▏                                   | 61/114 [04:11<03:55,  4.44s/it]"
     ]
    },
    {
     "name": "stdout",
     "output_type": "stream",
     "text": [
      "61 : INTR.BA,Compañía Introductora de Buenos Aires S.A.\n"
     ]
    },
    {
     "name": "stderr",
     "output_type": "stream",
     "text": [
      "\r",
      " 54%|█████████████████████████████████████████▉                                   | 62/114 [04:14<03:27,  4.00s/it]"
     ]
    },
    {
     "name": "stdout",
     "output_type": "stream",
     "text": [
      "62 : INVJ.BA,Inversora Juramento S.A.\n"
     ]
    },
    {
     "name": "stderr",
     "output_type": "stream",
     "text": [
      "\r",
      " 55%|██████████████████████████████████████████▌                                  | 63/114 [04:18<03:30,  4.12s/it]"
     ]
    },
    {
     "name": "stdout",
     "output_type": "stream",
     "text": [
      "63 : IRCP.BA,IRSA Propiedades Comerciales S.A.\n"
     ]
    },
    {
     "name": "stderr",
     "output_type": "stream",
     "text": [
      "\r",
      " 56%|███████████████████████████████████████████▏                                 | 64/114 [04:21<03:13,  3.87s/it]"
     ]
    },
    {
     "name": "stdout",
     "output_type": "stream",
     "text": [
      "64 : IRSA.BA,IRSA Inversiones y Representaciones Sociedad Anónima\n"
     ]
    },
    {
     "name": "stderr",
     "output_type": "stream",
     "text": [
      "\r",
      " 57%|███████████████████████████████████████████▉                                 | 65/114 [04:25<03:10,  3.89s/it]"
     ]
    },
    {
     "name": "stdout",
     "output_type": "stream",
     "text": [
      "65 : JMIN.BA,"
     ]
    },
    {
     "name": "stderr",
     "output_type": "stream",
     "text": [
      "\r",
      " 58%|████████████████████████████████████████████▌                                | 66/114 [04:28<02:52,  3.60s/it]"
     ]
    },
    {
     "name": "stdout",
     "output_type": "stream",
     "text": [
      "66 : LEDE.BA,Ledesma Sociedad Anónima Agrícola Industrial\n"
     ]
    },
    {
     "name": "stderr",
     "output_type": "stream",
     "text": [
      "\r",
      " 59%|█████████████████████████████████████████████▎                               | 67/114 [04:32<02:52,  3.68s/it]"
     ]
    },
    {
     "name": "stdout",
     "output_type": "stream",
     "text": [
      "67 : LEID.BA,"
     ]
    },
    {
     "name": "stderr",
     "output_type": "stream",
     "text": [
      "\r",
      " 60%|█████████████████████████████████████████████▉                               | 68/114 [04:36<02:59,  3.90s/it]"
     ]
    },
    {
     "name": "stdout",
     "output_type": "stream",
     "text": [
      "68 : LOMA.BA,Loma Negra Compañía Industrial Argentina Sociedad Anónima\n"
     ]
    },
    {
     "name": "stderr",
     "output_type": "stream",
     "text": [
      "\r",
      " 61%|██████████████████████████████████████████████▌                              | 69/114 [04:40<02:58,  3.96s/it]"
     ]
    },
    {
     "name": "stdout",
     "output_type": "stream",
     "text": [
      "69 : LONG.BA,Longvie S.A.\n"
     ]
    },
    {
     "name": "stderr",
     "output_type": "stream",
     "text": [
      "\r",
      " 61%|███████████████████████████████████████████████▎                             | 70/114 [04:44<02:49,  3.85s/it]"
     ]
    },
    {
     "name": "stdout",
     "output_type": "stream",
     "text": [
      "70 : MERA.BA,"
     ]
    },
    {
     "name": "stderr",
     "output_type": "stream",
     "text": [
      "\r",
      " 62%|███████████████████████████████████████████████▉                             | 71/114 [04:48<02:49,  3.93s/it]"
     ]
    },
    {
     "name": "stdout",
     "output_type": "stream",
     "text": [
      "71 : METR.BA,MetroGAS S.A.\n"
     ]
    },
    {
     "name": "stderr",
     "output_type": "stream",
     "text": [
      "\r",
      " 63%|████████████████████████████████████████████████▋                            | 72/114 [04:52<02:44,  3.93s/it]"
     ]
    },
    {
     "name": "stdout",
     "output_type": "stream",
     "text": [
      "72 : MIRG.BA,Mirgor Sociedad Anónima, Comercial, Industrial, Financiera, Inmobiliaria y Agropecuaria\n"
     ]
    },
    {
     "name": "stderr",
     "output_type": "stream",
     "text": [
      "\r",
      " 64%|█████████████████████████████████████████████████▎                           | 73/114 [04:56<02:45,  4.03s/it]"
     ]
    },
    {
     "name": "stdout",
     "output_type": "stream",
     "text": [
      "73 : MOLA.BA,Molinos Agro S.A.\n"
     ]
    },
    {
     "name": "stderr",
     "output_type": "stream",
     "text": [
      "\r",
      " 65%|█████████████████████████████████████████████████▉                           | 74/114 [05:00<02:37,  3.95s/it]"
     ]
    },
    {
     "name": "stdout",
     "output_type": "stream",
     "text": [
      "74 : MOLI.BA,Molinos Rio de la Plata S.A.\n"
     ]
    },
    {
     "name": "stderr",
     "output_type": "stream",
     "text": [
      "\r",
      " 66%|██████████████████████████████████████████████████▋                          | 75/114 [05:04<02:29,  3.83s/it]"
     ]
    },
    {
     "name": "stdout",
     "output_type": "stream",
     "text": [
      "75 : MORI.BA,Morixe Hermanos S.A.C.I.\n"
     ]
    },
    {
     "name": "stderr",
     "output_type": "stream",
     "text": [
      "\r",
      " 67%|███████████████████████████████████████████████████▎                         | 76/114 [05:09<02:38,  4.16s/it]"
     ]
    },
    {
     "name": "stdout",
     "output_type": "stream",
     "text": [
      "76 : MTBA.BA,"
     ]
    },
    {
     "name": "stderr",
     "output_type": "stream",
     "text": [
      "\r",
      " 68%|████████████████████████████████████████████████████                         | 77/114 [05:13<02:37,  4.27s/it]"
     ]
    },
    {
     "name": "stdout",
     "output_type": "stream",
     "text": [
      "77 : MTR.BA,Matba Rofex S.A.\n"
     ]
    },
    {
     "name": "stderr",
     "output_type": "stream",
     "text": [
      "\r",
      " 68%|████████████████████████████████████████████████████▋                        | 78/114 [05:17<02:26,  4.07s/it]"
     ]
    },
    {
     "name": "stdout",
     "output_type": "stream",
     "text": [
      "78 : MVIA.BA,"
     ]
    },
    {
     "name": "stderr",
     "output_type": "stream",
     "text": [
      "\r",
      " 69%|█████████████████████████████████████████████████████▎                       | 79/114 [05:21<02:24,  4.11s/it]"
     ]
    },
    {
     "name": "stdout",
     "output_type": "stream",
     "text": [
      "79 : NCON.BA,"
     ]
    },
    {
     "name": "stderr",
     "output_type": "stream",
     "text": [
      "\r",
      " 70%|██████████████████████████████████████████████████████                       | 80/114 [05:28<02:49,  4.98s/it]"
     ]
    },
    {
     "name": "stdout",
     "output_type": "stream",
     "text": [
      "80 : NORT6.BA,"
     ]
    },
    {
     "name": "stderr",
     "output_type": "stream",
     "text": [
      "\r",
      " 71%|██████████████████████████████████████████████████████▋                      | 81/114 [05:30<02:18,  4.21s/it]"
     ]
    },
    {
     "name": "stdout",
     "output_type": "stream",
     "text": [
      "81 : OEST.BA,Grupo Concesionario del Oeste S.A.\n"
     ]
    },
    {
     "name": "stderr",
     "output_type": "stream",
     "text": [
      "\r",
      " 72%|███████████████████████████████████████████████████████▍                     | 82/114 [05:34<02:12,  4.14s/it]"
     ]
    },
    {
     "name": "stdout",
     "output_type": "stream",
     "text": [
      "82 : OVOP.BA,"
     ]
    },
    {
     "name": "stderr",
     "output_type": "stream",
     "text": [
      "\r",
      " 73%|████████████████████████████████████████████████████████                     | 83/114 [05:39<02:13,  4.32s/it]"
     ]
    },
    {
     "name": "stdout",
     "output_type": "stream",
     "text": [
      "83 : PAMP.BA,Pampa Energía S.A.\n"
     ]
    },
    {
     "name": "stderr",
     "output_type": "stream",
     "text": [
      "\r",
      " 74%|████████████████████████████████████████████████████████▋                    | 84/114 [05:43<02:08,  4.28s/it]"
     ]
    },
    {
     "name": "stdout",
     "output_type": "stream",
     "text": [
      "84 : PATA.BA,Sociedad Anónima Importadora y Exportadora de la Patagonia\n"
     ]
    },
    {
     "name": "stderr",
     "output_type": "stream",
     "text": [
      "\r",
      " 75%|█████████████████████████████████████████████████████████▍                   | 85/114 [05:48<02:09,  4.48s/it]"
     ]
    },
    {
     "name": "stdout",
     "output_type": "stream",
     "text": [
      "85 : PATR.BA,"
     ]
    },
    {
     "name": "stderr",
     "output_type": "stream",
     "text": [
      "\r",
      " 75%|██████████████████████████████████████████████████████████                   | 86/114 [05:53<02:07,  4.57s/it]"
     ]
    },
    {
     "name": "stdout",
     "output_type": "stream",
     "text": [
      "86 : PATY.BA,"
     ]
    },
    {
     "name": "stderr",
     "output_type": "stream",
     "text": [
      "\r",
      " 76%|██████████████████████████████████████████████████████████▊                  | 87/114 [05:59<02:11,  4.86s/it]"
     ]
    },
    {
     "name": "stdout",
     "output_type": "stream",
     "text": [
      "87 : PESA.BA,"
     ]
    },
    {
     "name": "stderr",
     "output_type": "stream",
     "text": [
      "\r",
      " 77%|███████████████████████████████████████████████████████████▍                 | 88/114 [06:01<01:51,  4.28s/it]"
     ]
    },
    {
     "name": "stdout",
     "output_type": "stream",
     "text": [
      "88 : PETR.BA,"
     ]
    },
    {
     "name": "stderr",
     "output_type": "stream",
     "text": [
      "\r",
      " 78%|████████████████████████████████████████████████████████████                 | 89/114 [06:04<01:34,  3.77s/it]"
     ]
    },
    {
     "name": "stdout",
     "output_type": "stream",
     "text": [
      "89 : PGR.BA,Phoenix Global Resources plc\n"
     ]
    },
    {
     "name": "stderr",
     "output_type": "stream",
     "text": [
      "\r",
      " 79%|████████████████████████████████████████████████████████████▊                | 90/114 [06:08<01:31,  3.81s/it]"
     ]
    },
    {
     "name": "stdout",
     "output_type": "stream",
     "text": [
      "90 : POLL.BA,Polledo Sociedad Anonima, Industrial, Constructora y Financiera\n"
     ]
    },
    {
     "name": "stderr",
     "output_type": "stream",
     "text": [
      "\r",
      " 80%|█████████████████████████████████████████████████████████████▍               | 91/114 [06:13<01:34,  4.12s/it]"
     ]
    },
    {
     "name": "stdout",
     "output_type": "stream",
     "text": [
      "91 : PREN1.BA,"
     ]
    },
    {
     "name": "stderr",
     "output_type": "stream",
     "text": [
      "\r",
      " 81%|██████████████████████████████████████████████████████████████▏              | 92/114 [06:17<01:30,  4.09s/it]"
     ]
    },
    {
     "name": "stdout",
     "output_type": "stream",
     "text": [
      "92 : PSUR.BA,"
     ]
    },
    {
     "name": "stderr",
     "output_type": "stream",
     "text": [
      "\r",
      " 82%|██████████████████████████████████████████████████████████████▊              | 93/114 [06:21<01:28,  4.19s/it]"
     ]
    },
    {
     "name": "stdout",
     "output_type": "stream",
     "text": [
      "93 : REGE.BA,"
     ]
    },
    {
     "name": "stderr",
     "output_type": "stream",
     "text": [
      "\r",
      " 82%|███████████████████████████████████████████████████████████████▍             | 94/114 [06:24<01:14,  3.71s/it]"
     ]
    },
    {
     "name": "stdout",
     "output_type": "stream",
     "text": [
      "94 : REP.BA,"
     ]
    },
    {
     "name": "stderr",
     "output_type": "stream",
     "text": [
      "\r",
      " 83%|████████████████████████████████████████████████████████████████▏            | 95/114 [06:26<01:04,  3.40s/it]"
     ]
    },
    {
     "name": "stdout",
     "output_type": "stream",
     "text": [
      "95 : RICH.BA,Laboratorios Richmond S.A.C.I.F.\n"
     ]
    },
    {
     "name": "stderr",
     "output_type": "stream",
     "text": [
      "\r",
      " 84%|████████████████████████████████████████████████████████████████▊            | 96/114 [06:29<00:56,  3.15s/it]"
     ]
    },
    {
     "name": "stdout",
     "output_type": "stream",
     "text": [
      "\n",
      "1 Failed download:\n",
      "- RICH.BA: No data found for this date range, symbol may be delisted\n",
      "96 : RIGO.BA,Rigolleau S.A.\n"
     ]
    },
    {
     "name": "stderr",
     "output_type": "stream",
     "text": [
      "\r",
      " 85%|█████████████████████████████████████████████████████████████████▌           | 97/114 [06:33<00:59,  3.48s/it]"
     ]
    },
    {
     "name": "stdout",
     "output_type": "stream",
     "text": [
      "97 : ROSE.BA,Instituto Rosenbusch S.A.\n"
     ]
    },
    {
     "name": "stderr",
     "output_type": "stream",
     "text": [
      "\r",
      " 86%|██████████████████████████████████████████████████████████████████▏          | 98/114 [06:37<00:58,  3.67s/it]"
     ]
    },
    {
     "name": "stdout",
     "output_type": "stream",
     "text": [
      "98 : SAMI.BA,S.A. San Miguel A.G.I.C.I. y F.\n"
     ]
    },
    {
     "name": "stderr",
     "output_type": "stream",
     "text": [
      "\r",
      " 87%|██████████████████████████████████████████████████████████████████▊          | 99/114 [06:41<00:54,  3.64s/it]"
     ]
    },
    {
     "name": "stdout",
     "output_type": "stream",
     "text": [
      "99 : SEMI.BA,Molinos Juan Semino S.A.\n"
     ]
    },
    {
     "name": "stderr",
     "output_type": "stream",
     "text": [
      "\r",
      " 88%|██████████████████████████████████████████████████████████████████▋         | 100/114 [06:45<00:52,  3.72s/it]"
     ]
    },
    {
     "name": "stdout",
     "output_type": "stream",
     "text": [
      "100 : Sth.BA,"
     ]
    },
    {
     "name": "stderr",
     "output_type": "stream",
     "text": [
      "\r",
      " 89%|███████████████████████████████████████████████████████████████████▎        | 101/114 [06:50<00:52,  4.00s/it]"
     ]
    },
    {
     "name": "stdout",
     "output_type": "stream",
     "text": [
      "101 : SUPV.BA,Grupo Supervielle S.A.\n"
     ]
    },
    {
     "name": "stderr",
     "output_type": "stream",
     "text": [
      "\r",
      " 89%|████████████████████████████████████████████████████████████████████        | 102/114 [06:54<00:48,  4.04s/it]"
     ]
    },
    {
     "name": "stdout",
     "output_type": "stream",
     "text": [
      "102 : TECO2.BA,Telecom Argentina S.A.\n"
     ]
    },
    {
     "name": "stderr",
     "output_type": "stream",
     "text": [
      "\r",
      " 90%|████████████████████████████████████████████████████████████████████▋       | 103/114 [06:57<00:43,  3.97s/it]"
     ]
    },
    {
     "name": "stdout",
     "output_type": "stream",
     "text": [
      "103 : TGLT.BA,TGLT S.A.\n"
     ]
    },
    {
     "name": "stderr",
     "output_type": "stream",
     "text": [
      "\r",
      " 91%|█████████████████████████████████████████████████████████████████████▎      | 104/114 [07:01<00:37,  3.74s/it]"
     ]
    },
    {
     "name": "stdout",
     "output_type": "stream",
     "text": [
      "104 : TGNO4.BA,Transportadora de Gas del Norte S.A.\n"
     ]
    },
    {
     "name": "stderr",
     "output_type": "stream",
     "text": [
      "\r",
      " 92%|██████████████████████████████████████████████████████████████████████      | 105/114 [07:05<00:36,  4.05s/it]"
     ]
    },
    {
     "name": "stdout",
     "output_type": "stream",
     "text": [
      "105 : TGSU2.BA,Transportadora de Gas del Sur S.A.\n"
     ]
    },
    {
     "name": "stderr",
     "output_type": "stream",
     "text": [
      "\r",
      " 93%|██████████████████████████████████████████████████████████████████████▋     | 106/114 [07:09<00:32,  4.01s/it]"
     ]
    },
    {
     "name": "stdout",
     "output_type": "stream",
     "text": [
      "106 : TRAN.BA,Compañía de Transporte de Energía Eléctrica en Alta Tensión Transener S.A.\n"
     ]
    },
    {
     "name": "stderr",
     "output_type": "stream",
     "text": [
      "\r",
      " 94%|███████████████████████████████████████████████████████████████████████▎    | 107/114 [07:13<00:27,  4.00s/it]"
     ]
    },
    {
     "name": "stdout",
     "output_type": "stream",
     "text": [
      "107 : TS.BA,"
     ]
    },
    {
     "name": "stderr",
     "output_type": "stream",
     "text": [
      "\r",
      " 95%|████████████████████████████████████████████████████████████████████████    | 108/114 [07:18<00:25,  4.31s/it]"
     ]
    },
    {
     "name": "stdout",
     "output_type": "stream",
     "text": [
      "108 : TXAR.BA,Ternium Argentina S.A.\n"
     ]
    },
    {
     "name": "stderr",
     "output_type": "stream",
     "text": [
      "\r",
      " 96%|████████████████████████████████████████████████████████████████████████▋   | 109/114 [07:21<00:19,  3.94s/it]"
     ]
    },
    {
     "name": "stdout",
     "output_type": "stream",
     "text": [
      "109 : TXARD.BA,"
     ]
    },
    {
     "name": "stderr",
     "output_type": "stream",
     "text": [
      "\r",
      " 96%|█████████████████████████████████████████████████████████████████████████▎  | 110/114 [07:25<00:15,  3.76s/it]"
     ]
    },
    {
     "name": "stdout",
     "output_type": "stream",
     "text": [
      "110 : URBA.BA,"
     ]
    },
    {
     "name": "stderr",
     "output_type": "stream",
     "text": [
      "\r",
      " 97%|██████████████████████████████████████████████████████████████████████████  | 111/114 [07:30<00:12,  4.13s/it]"
     ]
    },
    {
     "name": "stdout",
     "output_type": "stream",
     "text": [
      "111 : VALO.BA,Grupo Financiero Valores S.A.\n"
     ]
    },
    {
     "name": "stderr",
     "output_type": "stream",
     "text": [
      "\r",
      " 98%|██████████████████████████████████████████████████████████████████████████▋ | 112/114 [07:33<00:07,  3.90s/it]"
     ]
    },
    {
     "name": "stdout",
     "output_type": "stream",
     "text": [
      "112 : YPFD.BA,YPF Sociedad Anónima\n"
     ]
    },
    {
     "name": "stderr",
     "output_type": "stream",
     "text": [
      "\r",
      " 99%|███████████████████████████████████████████████████████████████████████████▎| 113/114 [07:37<00:03,  3.98s/it]"
     ]
    },
    {
     "name": "stdout",
     "output_type": "stream",
     "text": [
      "113 : ^MERV,"
     ]
    },
    {
     "name": "stderr",
     "output_type": "stream",
     "text": [
      "100%|████████████████████████████████████████████████████████████████████████████| 114/114 [07:38<00:00,  4.02s/it]\n"
     ]
    }
   ],
   "source": [
    "start = datetime.datetime(2011,1,1)\n",
    "end = datetime.datetime(2021,3,1)\n",
    "\n",
    "\n",
    "# create empty dataframe\n",
    "stock_final = pd.DataFrame()\n",
    "# iterate over each symbol\n",
    "for ticker in tqdm(yahoo_tickers):  \n",
    "    \n",
    "    # print the symbol which is being downloaded\n",
    "    print( str(yahoo_tickers.index(ticker)) + str(' : ') + ticker, sep=',', end=',', flush=True)  \n",
    "    \n",
    "    try:\n",
    "        # download the stock price \n",
    "        stock = []\n",
    "        try:\n",
    "            if ticker != \"^MERV\":\n",
    "                print (yf.Ticker(ticker).info['longName'])\n",
    "        except Exception:\n",
    "            continue\n",
    "        stock = yf.download(ticker ,start=start, end=end, progress=False)\n",
    "        \n",
    "        # append the individual stock prices \n",
    "        if len(stock) == 0:\n",
    "            None\n",
    "        else:\n",
    "            stock['Name']=ticker\n",
    "            stock_final = stock_final.append(stock,sort=False)\n",
    "\n",
    "    except Exception:\n",
    "        None"
   ]
  },
  {
   "cell_type": "code",
   "execution_count": 9,
   "id": "historical-piano",
   "metadata": {},
   "outputs": [
    {
     "data": {
      "text/html": [
       "<div>\n",
       "<style scoped>\n",
       "    .dataframe tbody tr th:only-of-type {\n",
       "        vertical-align: middle;\n",
       "    }\n",
       "\n",
       "    .dataframe tbody tr th {\n",
       "        vertical-align: top;\n",
       "    }\n",
       "\n",
       "    .dataframe thead th {\n",
       "        text-align: right;\n",
       "    }\n",
       "</style>\n",
       "<table border=\"1\" class=\"dataframe\">\n",
       "  <thead>\n",
       "    <tr style=\"text-align: right;\">\n",
       "      <th></th>\n",
       "      <th>Open</th>\n",
       "      <th>High</th>\n",
       "      <th>Low</th>\n",
       "      <th>Close</th>\n",
       "      <th>Adj Close</th>\n",
       "      <th>Volume</th>\n",
       "      <th>Name</th>\n",
       "    </tr>\n",
       "    <tr>\n",
       "      <th>Date</th>\n",
       "      <th></th>\n",
       "      <th></th>\n",
       "      <th></th>\n",
       "      <th></th>\n",
       "      <th></th>\n",
       "      <th></th>\n",
       "      <th></th>\n",
       "    </tr>\n",
       "  </thead>\n",
       "  <tbody>\n",
       "    <tr>\n",
       "      <th>2011-01-03</th>\n",
       "      <td>3523.820068</td>\n",
       "      <td>3631.090088</td>\n",
       "      <td>3523.820068</td>\n",
       "      <td>3628.479980</td>\n",
       "      <td>3628.479980</td>\n",
       "      <td>0</td>\n",
       "      <td>^MERV</td>\n",
       "    </tr>\n",
       "    <tr>\n",
       "      <th>2011-01-04</th>\n",
       "      <td>3635.689941</td>\n",
       "      <td>3657.010010</td>\n",
       "      <td>3548.719971</td>\n",
       "      <td>3613.729980</td>\n",
       "      <td>3613.729980</td>\n",
       "      <td>0</td>\n",
       "      <td>^MERV</td>\n",
       "    </tr>\n",
       "    <tr>\n",
       "      <th>2011-01-05</th>\n",
       "      <td>3607.750000</td>\n",
       "      <td>3610.669922</td>\n",
       "      <td>3566.580078</td>\n",
       "      <td>3604.800049</td>\n",
       "      <td>3604.800049</td>\n",
       "      <td>0</td>\n",
       "      <td>^MERV</td>\n",
       "    </tr>\n",
       "    <tr>\n",
       "      <th>2011-01-06</th>\n",
       "      <td>3605.860107</td>\n",
       "      <td>3637.310059</td>\n",
       "      <td>3588.800049</td>\n",
       "      <td>3603.439941</td>\n",
       "      <td>3603.439941</td>\n",
       "      <td>0</td>\n",
       "      <td>^MERV</td>\n",
       "    </tr>\n",
       "    <tr>\n",
       "      <th>2011-01-07</th>\n",
       "      <td>3604.649902</td>\n",
       "      <td>3623.679932</td>\n",
       "      <td>3531.639893</td>\n",
       "      <td>3546.260010</td>\n",
       "      <td>3546.260010</td>\n",
       "      <td>0</td>\n",
       "      <td>^MERV</td>\n",
       "    </tr>\n",
       "    <tr>\n",
       "      <th>...</th>\n",
       "      <td>...</td>\n",
       "      <td>...</td>\n",
       "      <td>...</td>\n",
       "      <td>...</td>\n",
       "      <td>...</td>\n",
       "      <td>...</td>\n",
       "      <td>...</td>\n",
       "    </tr>\n",
       "    <tr>\n",
       "      <th>2021-02-22</th>\n",
       "      <td>50992.851562</td>\n",
       "      <td>51013.718750</td>\n",
       "      <td>49084.570312</td>\n",
       "      <td>49268.421875</td>\n",
       "      <td>49268.421875</td>\n",
       "      <td>0</td>\n",
       "      <td>^MERV</td>\n",
       "    </tr>\n",
       "    <tr>\n",
       "      <th>2021-02-23</th>\n",
       "      <td>49268.421875</td>\n",
       "      <td>49268.421875</td>\n",
       "      <td>47381.609375</td>\n",
       "      <td>47856.679688</td>\n",
       "      <td>47856.679688</td>\n",
       "      <td>0</td>\n",
       "      <td>^MERV</td>\n",
       "    </tr>\n",
       "    <tr>\n",
       "      <th>2021-02-24</th>\n",
       "      <td>47856.679688</td>\n",
       "      <td>49713.781250</td>\n",
       "      <td>47856.679688</td>\n",
       "      <td>49606.671875</td>\n",
       "      <td>49606.671875</td>\n",
       "      <td>0</td>\n",
       "      <td>^MERV</td>\n",
       "    </tr>\n",
       "    <tr>\n",
       "      <th>2021-02-25</th>\n",
       "      <td>49606.671875</td>\n",
       "      <td>50477.699219</td>\n",
       "      <td>48705.410156</td>\n",
       "      <td>48920.679688</td>\n",
       "      <td>48920.679688</td>\n",
       "      <td>0</td>\n",
       "      <td>^MERV</td>\n",
       "    </tr>\n",
       "    <tr>\n",
       "      <th>2021-02-26</th>\n",
       "      <td>48920.679688</td>\n",
       "      <td>49445.738281</td>\n",
       "      <td>48135.988281</td>\n",
       "      <td>48432.269531</td>\n",
       "      <td>48432.269531</td>\n",
       "      <td>0</td>\n",
       "      <td>^MERV</td>\n",
       "    </tr>\n",
       "  </tbody>\n",
       "</table>\n",
       "<p>2461 rows × 7 columns</p>\n",
       "</div>"
      ],
      "text/plain": [
       "                    Open          High           Low         Close  \\\n",
       "Date                                                                 \n",
       "2011-01-03   3523.820068   3631.090088   3523.820068   3628.479980   \n",
       "2011-01-04   3635.689941   3657.010010   3548.719971   3613.729980   \n",
       "2011-01-05   3607.750000   3610.669922   3566.580078   3604.800049   \n",
       "2011-01-06   3605.860107   3637.310059   3588.800049   3603.439941   \n",
       "2011-01-07   3604.649902   3623.679932   3531.639893   3546.260010   \n",
       "...                  ...           ...           ...           ...   \n",
       "2021-02-22  50992.851562  51013.718750  49084.570312  49268.421875   \n",
       "2021-02-23  49268.421875  49268.421875  47381.609375  47856.679688   \n",
       "2021-02-24  47856.679688  49713.781250  47856.679688  49606.671875   \n",
       "2021-02-25  49606.671875  50477.699219  48705.410156  48920.679688   \n",
       "2021-02-26  48920.679688  49445.738281  48135.988281  48432.269531   \n",
       "\n",
       "               Adj Close  Volume   Name  \n",
       "Date                                     \n",
       "2011-01-03   3628.479980       0  ^MERV  \n",
       "2011-01-04   3613.729980       0  ^MERV  \n",
       "2011-01-05   3604.800049       0  ^MERV  \n",
       "2011-01-06   3603.439941       0  ^MERV  \n",
       "2011-01-07   3546.260010       0  ^MERV  \n",
       "...                  ...     ...    ...  \n",
       "2021-02-22  49268.421875       0  ^MERV  \n",
       "2021-02-23  47856.679688       0  ^MERV  \n",
       "2021-02-24  49606.671875       0  ^MERV  \n",
       "2021-02-25  48920.679688       0  ^MERV  \n",
       "2021-02-26  48432.269531       0  ^MERV  \n",
       "\n",
       "[2461 rows x 7 columns]"
      ]
     },
     "execution_count": 9,
     "metadata": {},
     "output_type": "execute_result"
    }
   ],
   "source": [
    "stock"
   ]
  },
  {
   "cell_type": "code",
   "execution_count": 10,
   "id": "short-airport",
   "metadata": {
    "scrolled": true
   },
   "outputs": [
    {
     "data": {
      "text/plain": [
       "(165124, 7)"
      ]
     },
     "execution_count": 10,
     "metadata": {},
     "output_type": "execute_result"
    }
   ],
   "source": [
    "stock_final.shape"
   ]
  },
  {
   "cell_type": "code",
   "execution_count": 11,
   "id": "alpine-poland",
   "metadata": {},
   "outputs": [
    {
     "data": {
      "text/html": [
       "<div>\n",
       "<style scoped>\n",
       "    .dataframe tbody tr th:only-of-type {\n",
       "        vertical-align: middle;\n",
       "    }\n",
       "\n",
       "    .dataframe tbody tr th {\n",
       "        vertical-align: top;\n",
       "    }\n",
       "\n",
       "    .dataframe thead th {\n",
       "        text-align: right;\n",
       "    }\n",
       "</style>\n",
       "<table border=\"1\" class=\"dataframe\">\n",
       "  <thead>\n",
       "    <tr style=\"text-align: right;\">\n",
       "      <th></th>\n",
       "      <th>Open</th>\n",
       "      <th>High</th>\n",
       "      <th>Low</th>\n",
       "      <th>Close</th>\n",
       "      <th>Adj Close</th>\n",
       "      <th>Volume</th>\n",
       "      <th>Name</th>\n",
       "    </tr>\n",
       "    <tr>\n",
       "      <th>Date</th>\n",
       "      <th></th>\n",
       "      <th></th>\n",
       "      <th></th>\n",
       "      <th></th>\n",
       "      <th></th>\n",
       "      <th></th>\n",
       "      <th></th>\n",
       "    </tr>\n",
       "  </thead>\n",
       "  <tbody>\n",
       "    <tr>\n",
       "      <th>2011-01-03</th>\n",
       "      <td>1.0320</td>\n",
       "      <td>1.0440</td>\n",
       "      <td>1.0320</td>\n",
       "      <td>1.0320</td>\n",
       "      <td>1.0320</td>\n",
       "      <td>64087.0</td>\n",
       "      <td>AGRO.BA</td>\n",
       "    </tr>\n",
       "    <tr>\n",
       "      <th>2011-01-04</th>\n",
       "      <td>1.0320</td>\n",
       "      <td>1.0512</td>\n",
       "      <td>1.0200</td>\n",
       "      <td>1.0512</td>\n",
       "      <td>1.0512</td>\n",
       "      <td>231304.0</td>\n",
       "      <td>AGRO.BA</td>\n",
       "    </tr>\n",
       "    <tr>\n",
       "      <th>2011-01-05</th>\n",
       "      <td>1.0512</td>\n",
       "      <td>1.0560</td>\n",
       "      <td>1.0440</td>\n",
       "      <td>1.0560</td>\n",
       "      <td>1.0560</td>\n",
       "      <td>48958.0</td>\n",
       "      <td>AGRO.BA</td>\n",
       "    </tr>\n",
       "    <tr>\n",
       "      <th>2011-01-06</th>\n",
       "      <td>1.0632</td>\n",
       "      <td>1.1520</td>\n",
       "      <td>1.0632</td>\n",
       "      <td>1.1520</td>\n",
       "      <td>1.1520</td>\n",
       "      <td>371354.0</td>\n",
       "      <td>AGRO.BA</td>\n",
       "    </tr>\n",
       "    <tr>\n",
       "      <th>2011-01-07</th>\n",
       "      <td>1.1520</td>\n",
       "      <td>1.1760</td>\n",
       "      <td>1.1376</td>\n",
       "      <td>1.1520</td>\n",
       "      <td>1.1520</td>\n",
       "      <td>249620.0</td>\n",
       "      <td>AGRO.BA</td>\n",
       "    </tr>\n",
       "  </tbody>\n",
       "</table>\n",
       "</div>"
      ],
      "text/plain": [
       "              Open    High     Low   Close  Adj Close    Volume     Name\n",
       "Date                                                                    \n",
       "2011-01-03  1.0320  1.0440  1.0320  1.0320     1.0320   64087.0  AGRO.BA\n",
       "2011-01-04  1.0320  1.0512  1.0200  1.0512     1.0512  231304.0  AGRO.BA\n",
       "2011-01-05  1.0512  1.0560  1.0440  1.0560     1.0560   48958.0  AGRO.BA\n",
       "2011-01-06  1.0632  1.1520  1.0632  1.1520     1.1520  371354.0  AGRO.BA\n",
       "2011-01-07  1.1520  1.1760  1.1376  1.1520     1.1520  249620.0  AGRO.BA"
      ]
     },
     "execution_count": 11,
     "metadata": {},
     "output_type": "execute_result"
    }
   ],
   "source": [
    "stock_final.head()"
   ]
  },
  {
   "cell_type": "code",
   "execution_count": 12,
   "id": "deadly-prophet",
   "metadata": {},
   "outputs": [
    {
     "data": {
      "text/plain": [
       "(array(['AGRO.BA', 'ALUA.BA', 'AUSO.BA', 'BBAR.BA', 'BHIP.BA', 'BMA.BA',\n",
       "        'BOLT.BA', 'BPAT.BA', 'BRIO.BA', 'BRIO6.BA', 'BYMA.BA', 'CADO.BA',\n",
       "        'CAPX.BA', 'CARC.BA', 'CECO2.BA', 'CELU.BA', 'CEPU.BA', 'CGPA2.BA',\n",
       "        'COME.BA', 'CRES.BA', 'CTIO.BA', 'CVH.BA', 'DGCU2.BA', 'DOME.BA',\n",
       "        'DYCA.BA', 'EDLH.BA', 'EDN.BA', 'EMDE.BA', 'FERR.BA', 'FIPL.BA',\n",
       "        'GAMI.BA', 'GARO.BA', 'GBAN.BA', 'GCLA.BA', 'GGAL.BA', 'GRIM.BA',\n",
       "        'HARG.BA', 'HAVA.BA', 'HULI.BA', 'INAG.BA', 'INTR.BA', 'INVJ.BA',\n",
       "        'IRCP.BA', 'IRSA.BA', 'LEDE.BA', 'LOMA.BA', 'LONG.BA', 'METR.BA',\n",
       "        'MIRG.BA', 'MOLA.BA', 'MOLI.BA', 'MORI.BA', 'MTR.BA', 'OEST.BA',\n",
       "        'PAMP.BA', 'PATA.BA', 'PGR.BA', 'POLL.BA', 'RIGO.BA', 'ROSE.BA',\n",
       "        'SAMI.BA', 'SEMI.BA', 'SUPV.BA', 'TECO2.BA', 'TGLT.BA', 'TGNO4.BA',\n",
       "        'TGSU2.BA', 'TRAN.BA', 'TXAR.BA', 'VALO.BA', 'YPFD.BA', '^MERV'],\n",
       "       dtype=object),\n",
       " 72)"
      ]
     },
     "execution_count": 12,
     "metadata": {},
     "output_type": "execute_result"
    }
   ],
   "source": [
    "stock_final.Name.unique(), len(stock_final.Name.unique())"
   ]
  },
  {
   "cell_type": "code",
   "execution_count": 13,
   "id": "informative-heating",
   "metadata": {},
   "outputs": [],
   "source": [
    "stock_final_close_price = stock_final.reset_index()[['Date','Close', 'Name']].set_index([\"Date\", \"Name\"]).unstack(level= -1)\n",
    "stock_final_close_price.columns = [ col[1] for col in stock_final_close_price.columns]"
   ]
  },
  {
   "cell_type": "code",
   "execution_count": 14,
   "id": "declared-underground",
   "metadata": {},
   "outputs": [
    {
     "data": {
      "text/html": [
       "<div>\n",
       "<style scoped>\n",
       "    .dataframe tbody tr th:only-of-type {\n",
       "        vertical-align: middle;\n",
       "    }\n",
       "\n",
       "    .dataframe tbody tr th {\n",
       "        vertical-align: top;\n",
       "    }\n",
       "\n",
       "    .dataframe thead th {\n",
       "        text-align: right;\n",
       "    }\n",
       "</style>\n",
       "<table border=\"1\" class=\"dataframe\">\n",
       "  <thead>\n",
       "    <tr style=\"text-align: right;\">\n",
       "      <th></th>\n",
       "      <th>AGRO.BA</th>\n",
       "      <th>ALUA.BA</th>\n",
       "      <th>AUSO.BA</th>\n",
       "      <th>BBAR.BA</th>\n",
       "      <th>BHIP.BA</th>\n",
       "      <th>BMA.BA</th>\n",
       "      <th>BOLT.BA</th>\n",
       "      <th>BPAT.BA</th>\n",
       "      <th>BRIO.BA</th>\n",
       "      <th>BRIO6.BA</th>\n",
       "      <th>...</th>\n",
       "      <th>SUPV.BA</th>\n",
       "      <th>TECO2.BA</th>\n",
       "      <th>TGLT.BA</th>\n",
       "      <th>TGNO4.BA</th>\n",
       "      <th>TGSU2.BA</th>\n",
       "      <th>TRAN.BA</th>\n",
       "      <th>TXAR.BA</th>\n",
       "      <th>VALO.BA</th>\n",
       "      <th>YPFD.BA</th>\n",
       "      <th>^MERV</th>\n",
       "    </tr>\n",
       "    <tr>\n",
       "      <th>Date</th>\n",
       "      <th></th>\n",
       "      <th></th>\n",
       "      <th></th>\n",
       "      <th></th>\n",
       "      <th></th>\n",
       "      <th></th>\n",
       "      <th></th>\n",
       "      <th></th>\n",
       "      <th></th>\n",
       "      <th></th>\n",
       "      <th></th>\n",
       "      <th></th>\n",
       "      <th></th>\n",
       "      <th></th>\n",
       "      <th></th>\n",
       "      <th></th>\n",
       "      <th></th>\n",
       "      <th></th>\n",
       "      <th></th>\n",
       "      <th></th>\n",
       "      <th></th>\n",
       "    </tr>\n",
       "  </thead>\n",
       "  <tbody>\n",
       "    <tr>\n",
       "      <th>2011-01-03</th>\n",
       "      <td>1.032000</td>\n",
       "      <td>3.851303</td>\n",
       "      <td>1.450000</td>\n",
       "      <td>16.001518</td>\n",
       "      <td>3.33</td>\n",
       "      <td>20.799999</td>\n",
       "      <td>0.588000</td>\n",
       "      <td>5.940000</td>\n",
       "      <td>3.125000</td>\n",
       "      <td>2.4000</td>\n",
       "      <td>...</td>\n",
       "      <td>NaN</td>\n",
       "      <td>20.350000</td>\n",
       "      <td>9.70</td>\n",
       "      <td>1.490000</td>\n",
       "      <td>4.410262</td>\n",
       "      <td>1.620000</td>\n",
       "      <td>2.684615</td>\n",
       "      <td>1.023235</td>\n",
       "      <td>203.750000</td>\n",
       "      <td>3628.479980</td>\n",
       "    </tr>\n",
       "    <tr>\n",
       "      <th>2011-01-04</th>\n",
       "      <td>1.051200</td>\n",
       "      <td>3.934575</td>\n",
       "      <td>1.440000</td>\n",
       "      <td>15.756847</td>\n",
       "      <td>3.47</td>\n",
       "      <td>20.799999</td>\n",
       "      <td>0.590000</td>\n",
       "      <td>6.080000</td>\n",
       "      <td>3.150000</td>\n",
       "      <td>2.3750</td>\n",
       "      <td>...</td>\n",
       "      <td>NaN</td>\n",
       "      <td>20.600000</td>\n",
       "      <td>9.70</td>\n",
       "      <td>1.450000</td>\n",
       "      <td>4.362115</td>\n",
       "      <td>1.600000</td>\n",
       "      <td>2.684615</td>\n",
       "      <td>1.023235</td>\n",
       "      <td>214.000000</td>\n",
       "      <td>3613.729980</td>\n",
       "    </tr>\n",
       "    <tr>\n",
       "      <th>2011-01-05</th>\n",
       "      <td>1.056000</td>\n",
       "      <td>4.149693</td>\n",
       "      <td>1.570000</td>\n",
       "      <td>15.267504</td>\n",
       "      <td>3.43</td>\n",
       "      <td>20.000000</td>\n",
       "      <td>0.596667</td>\n",
       "      <td>6.070000</td>\n",
       "      <td>3.200000</td>\n",
       "      <td>2.3625</td>\n",
       "      <td>...</td>\n",
       "      <td>NaN</td>\n",
       "      <td>20.650000</td>\n",
       "      <td>9.68</td>\n",
       "      <td>1.470000</td>\n",
       "      <td>4.333227</td>\n",
       "      <td>1.600000</td>\n",
       "      <td>2.684615</td>\n",
       "      <td>1.023235</td>\n",
       "      <td>219.000000</td>\n",
       "      <td>3604.800049</td>\n",
       "    </tr>\n",
       "    <tr>\n",
       "      <th>2011-01-06</th>\n",
       "      <td>1.152000</td>\n",
       "      <td>4.267661</td>\n",
       "      <td>1.560000</td>\n",
       "      <td>14.924964</td>\n",
       "      <td>3.42</td>\n",
       "      <td>20.100000</td>\n",
       "      <td>0.626667</td>\n",
       "      <td>6.140000</td>\n",
       "      <td>3.125000</td>\n",
       "      <td>2.3200</td>\n",
       "      <td>...</td>\n",
       "      <td>NaN</td>\n",
       "      <td>21.400000</td>\n",
       "      <td>9.20</td>\n",
       "      <td>1.440000</td>\n",
       "      <td>4.256191</td>\n",
       "      <td>1.580000</td>\n",
       "      <td>2.684615</td>\n",
       "      <td>1.023235</td>\n",
       "      <td>219.500000</td>\n",
       "      <td>3603.439941</td>\n",
       "    </tr>\n",
       "    <tr>\n",
       "      <th>2011-01-07</th>\n",
       "      <td>1.152000</td>\n",
       "      <td>4.163571</td>\n",
       "      <td>1.490000</td>\n",
       "      <td>14.778161</td>\n",
       "      <td>3.35</td>\n",
       "      <td>20.100000</td>\n",
       "      <td>0.628667</td>\n",
       "      <td>6.000000</td>\n",
       "      <td>3.075000</td>\n",
       "      <td>2.2500</td>\n",
       "      <td>...</td>\n",
       "      <td>NaN</td>\n",
       "      <td>20.850000</td>\n",
       "      <td>9.60</td>\n",
       "      <td>1.430000</td>\n",
       "      <td>4.208044</td>\n",
       "      <td>1.570000</td>\n",
       "      <td>2.684615</td>\n",
       "      <td>1.023235</td>\n",
       "      <td>213.000000</td>\n",
       "      <td>3546.260010</td>\n",
       "    </tr>\n",
       "    <tr>\n",
       "      <th>...</th>\n",
       "      <td>...</td>\n",
       "      <td>...</td>\n",
       "      <td>...</td>\n",
       "      <td>...</td>\n",
       "      <td>...</td>\n",
       "      <td>...</td>\n",
       "      <td>...</td>\n",
       "      <td>...</td>\n",
       "      <td>...</td>\n",
       "      <td>...</td>\n",
       "      <td>...</td>\n",
       "      <td>...</td>\n",
       "      <td>...</td>\n",
       "      <td>...</td>\n",
       "      <td>...</td>\n",
       "      <td>...</td>\n",
       "      <td>...</td>\n",
       "      <td>...</td>\n",
       "      <td>...</td>\n",
       "      <td>...</td>\n",
       "      <td>...</td>\n",
       "    </tr>\n",
       "    <tr>\n",
       "      <th>2021-02-22</th>\n",
       "      <td>19.549999</td>\n",
       "      <td>45.700001</td>\n",
       "      <td>58.599998</td>\n",
       "      <td>142.050003</td>\n",
       "      <td>8.71</td>\n",
       "      <td>206.600006</td>\n",
       "      <td>3.680000</td>\n",
       "      <td>67.000000</td>\n",
       "      <td>19.000000</td>\n",
       "      <td>19.0000</td>\n",
       "      <td>...</td>\n",
       "      <td>59.549999</td>\n",
       "      <td>172.949997</td>\n",
       "      <td>3.80</td>\n",
       "      <td>42.799999</td>\n",
       "      <td>142.149994</td>\n",
       "      <td>27.049999</td>\n",
       "      <td>13.850000</td>\n",
       "      <td>25.900000</td>\n",
       "      <td>613.250000</td>\n",
       "      <td>49268.421875</td>\n",
       "    </tr>\n",
       "    <tr>\n",
       "      <th>2021-02-23</th>\n",
       "      <td>19.200001</td>\n",
       "      <td>43.950001</td>\n",
       "      <td>57.400002</td>\n",
       "      <td>142.050003</td>\n",
       "      <td>8.41</td>\n",
       "      <td>200.050003</td>\n",
       "      <td>3.520000</td>\n",
       "      <td>65.500000</td>\n",
       "      <td>18.900000</td>\n",
       "      <td>19.0000</td>\n",
       "      <td>...</td>\n",
       "      <td>55.500000</td>\n",
       "      <td>171.149994</td>\n",
       "      <td>3.79</td>\n",
       "      <td>41.900002</td>\n",
       "      <td>143.350006</td>\n",
       "      <td>26.549999</td>\n",
       "      <td>13.850000</td>\n",
       "      <td>25.400000</td>\n",
       "      <td>592.549988</td>\n",
       "      <td>47856.679688</td>\n",
       "    </tr>\n",
       "    <tr>\n",
       "      <th>2021-02-24</th>\n",
       "      <td>19.500000</td>\n",
       "      <td>45.450001</td>\n",
       "      <td>57.900002</td>\n",
       "      <td>142.050003</td>\n",
       "      <td>8.75</td>\n",
       "      <td>213.500000</td>\n",
       "      <td>3.730000</td>\n",
       "      <td>67.000000</td>\n",
       "      <td>19.000000</td>\n",
       "      <td>19.0000</td>\n",
       "      <td>...</td>\n",
       "      <td>57.650002</td>\n",
       "      <td>179.350006</td>\n",
       "      <td>3.84</td>\n",
       "      <td>42.799999</td>\n",
       "      <td>144.100006</td>\n",
       "      <td>27.250000</td>\n",
       "      <td>13.850000</td>\n",
       "      <td>25.950001</td>\n",
       "      <td>635.200012</td>\n",
       "      <td>49606.671875</td>\n",
       "    </tr>\n",
       "    <tr>\n",
       "      <th>2021-02-25</th>\n",
       "      <td>19.400000</td>\n",
       "      <td>46.200001</td>\n",
       "      <td>56.900002</td>\n",
       "      <td>142.050003</td>\n",
       "      <td>8.84</td>\n",
       "      <td>204.800003</td>\n",
       "      <td>3.600000</td>\n",
       "      <td>68.000000</td>\n",
       "      <td>18.850000</td>\n",
       "      <td>19.0000</td>\n",
       "      <td>...</td>\n",
       "      <td>56.700001</td>\n",
       "      <td>172.949997</td>\n",
       "      <td>3.83</td>\n",
       "      <td>42.099998</td>\n",
       "      <td>141.000000</td>\n",
       "      <td>26.700001</td>\n",
       "      <td>13.850000</td>\n",
       "      <td>25.700001</td>\n",
       "      <td>646.400024</td>\n",
       "      <td>48920.679688</td>\n",
       "    </tr>\n",
       "    <tr>\n",
       "      <th>2021-02-26</th>\n",
       "      <td>19.500000</td>\n",
       "      <td>46.349998</td>\n",
       "      <td>56.400002</td>\n",
       "      <td>142.050003</td>\n",
       "      <td>8.69</td>\n",
       "      <td>202.550003</td>\n",
       "      <td>3.790000</td>\n",
       "      <td>66.900002</td>\n",
       "      <td>18.700001</td>\n",
       "      <td>19.0000</td>\n",
       "      <td>...</td>\n",
       "      <td>56.849998</td>\n",
       "      <td>171.949997</td>\n",
       "      <td>3.82</td>\n",
       "      <td>41.400002</td>\n",
       "      <td>138.850006</td>\n",
       "      <td>26.350000</td>\n",
       "      <td>13.850000</td>\n",
       "      <td>25.650000</td>\n",
       "      <td>639.049988</td>\n",
       "      <td>48432.269531</td>\n",
       "    </tr>\n",
       "  </tbody>\n",
       "</table>\n",
       "<p>2479 rows × 72 columns</p>\n",
       "</div>"
      ],
      "text/plain": [
       "              AGRO.BA    ALUA.BA    AUSO.BA     BBAR.BA  BHIP.BA      BMA.BA  \\\n",
       "Date                                                                           \n",
       "2011-01-03   1.032000   3.851303   1.450000   16.001518     3.33   20.799999   \n",
       "2011-01-04   1.051200   3.934575   1.440000   15.756847     3.47   20.799999   \n",
       "2011-01-05   1.056000   4.149693   1.570000   15.267504     3.43   20.000000   \n",
       "2011-01-06   1.152000   4.267661   1.560000   14.924964     3.42   20.100000   \n",
       "2011-01-07   1.152000   4.163571   1.490000   14.778161     3.35   20.100000   \n",
       "...               ...        ...        ...         ...      ...         ...   \n",
       "2021-02-22  19.549999  45.700001  58.599998  142.050003     8.71  206.600006   \n",
       "2021-02-23  19.200001  43.950001  57.400002  142.050003     8.41  200.050003   \n",
       "2021-02-24  19.500000  45.450001  57.900002  142.050003     8.75  213.500000   \n",
       "2021-02-25  19.400000  46.200001  56.900002  142.050003     8.84  204.800003   \n",
       "2021-02-26  19.500000  46.349998  56.400002  142.050003     8.69  202.550003   \n",
       "\n",
       "             BOLT.BA    BPAT.BA    BRIO.BA  BRIO6.BA  ...    SUPV.BA  \\\n",
       "Date                                                  ...              \n",
       "2011-01-03  0.588000   5.940000   3.125000    2.4000  ...        NaN   \n",
       "2011-01-04  0.590000   6.080000   3.150000    2.3750  ...        NaN   \n",
       "2011-01-05  0.596667   6.070000   3.200000    2.3625  ...        NaN   \n",
       "2011-01-06  0.626667   6.140000   3.125000    2.3200  ...        NaN   \n",
       "2011-01-07  0.628667   6.000000   3.075000    2.2500  ...        NaN   \n",
       "...              ...        ...        ...       ...  ...        ...   \n",
       "2021-02-22  3.680000  67.000000  19.000000   19.0000  ...  59.549999   \n",
       "2021-02-23  3.520000  65.500000  18.900000   19.0000  ...  55.500000   \n",
       "2021-02-24  3.730000  67.000000  19.000000   19.0000  ...  57.650002   \n",
       "2021-02-25  3.600000  68.000000  18.850000   19.0000  ...  56.700001   \n",
       "2021-02-26  3.790000  66.900002  18.700001   19.0000  ...  56.849998   \n",
       "\n",
       "              TECO2.BA  TGLT.BA   TGNO4.BA    TGSU2.BA    TRAN.BA    TXAR.BA  \\\n",
       "Date                                                                           \n",
       "2011-01-03   20.350000     9.70   1.490000    4.410262   1.620000   2.684615   \n",
       "2011-01-04   20.600000     9.70   1.450000    4.362115   1.600000   2.684615   \n",
       "2011-01-05   20.650000     9.68   1.470000    4.333227   1.600000   2.684615   \n",
       "2011-01-06   21.400000     9.20   1.440000    4.256191   1.580000   2.684615   \n",
       "2011-01-07   20.850000     9.60   1.430000    4.208044   1.570000   2.684615   \n",
       "...                ...      ...        ...         ...        ...        ...   \n",
       "2021-02-22  172.949997     3.80  42.799999  142.149994  27.049999  13.850000   \n",
       "2021-02-23  171.149994     3.79  41.900002  143.350006  26.549999  13.850000   \n",
       "2021-02-24  179.350006     3.84  42.799999  144.100006  27.250000  13.850000   \n",
       "2021-02-25  172.949997     3.83  42.099998  141.000000  26.700001  13.850000   \n",
       "2021-02-26  171.949997     3.82  41.400002  138.850006  26.350000  13.850000   \n",
       "\n",
       "              VALO.BA     YPFD.BA         ^MERV  \n",
       "Date                                             \n",
       "2011-01-03   1.023235  203.750000   3628.479980  \n",
       "2011-01-04   1.023235  214.000000   3613.729980  \n",
       "2011-01-05   1.023235  219.000000   3604.800049  \n",
       "2011-01-06   1.023235  219.500000   3603.439941  \n",
       "2011-01-07   1.023235  213.000000   3546.260010  \n",
       "...               ...         ...           ...  \n",
       "2021-02-22  25.900000  613.250000  49268.421875  \n",
       "2021-02-23  25.400000  592.549988  47856.679688  \n",
       "2021-02-24  25.950001  635.200012  49606.671875  \n",
       "2021-02-25  25.700001  646.400024  48920.679688  \n",
       "2021-02-26  25.650000  639.049988  48432.269531  \n",
       "\n",
       "[2479 rows x 72 columns]"
      ]
     },
     "execution_count": 14,
     "metadata": {},
     "output_type": "execute_result"
    }
   ],
   "source": [
    "stock_final_close_price"
   ]
  },
  {
   "cell_type": "code",
   "execution_count": 15,
   "id": "boring-bruce",
   "metadata": {},
   "outputs": [],
   "source": [
    "stock_final_volume = stock_final.reset_index()[['Date','Volume', 'Name']].set_index([\"Date\", \"Name\"]).unstack(level= -1)\n",
    "stock_final_volume.columns = [ col[1] for col in stock_final_volume.columns]"
   ]
  },
  {
   "cell_type": "code",
   "execution_count": 16,
   "id": "concrete-clinton",
   "metadata": {},
   "outputs": [
    {
     "data": {
      "text/html": [
       "<div>\n",
       "<style scoped>\n",
       "    .dataframe tbody tr th:only-of-type {\n",
       "        vertical-align: middle;\n",
       "    }\n",
       "\n",
       "    .dataframe tbody tr th {\n",
       "        vertical-align: top;\n",
       "    }\n",
       "\n",
       "    .dataframe thead th {\n",
       "        text-align: right;\n",
       "    }\n",
       "</style>\n",
       "<table border=\"1\" class=\"dataframe\">\n",
       "  <thead>\n",
       "    <tr style=\"text-align: right;\">\n",
       "      <th></th>\n",
       "      <th>AGRO.BA</th>\n",
       "      <th>ALUA.BA</th>\n",
       "      <th>AUSO.BA</th>\n",
       "      <th>BBAR.BA</th>\n",
       "      <th>BHIP.BA</th>\n",
       "      <th>BMA.BA</th>\n",
       "      <th>BOLT.BA</th>\n",
       "      <th>BPAT.BA</th>\n",
       "      <th>BRIO.BA</th>\n",
       "      <th>BRIO6.BA</th>\n",
       "      <th>...</th>\n",
       "      <th>SUPV.BA</th>\n",
       "      <th>TECO2.BA</th>\n",
       "      <th>TGLT.BA</th>\n",
       "      <th>TGNO4.BA</th>\n",
       "      <th>TGSU2.BA</th>\n",
       "      <th>TRAN.BA</th>\n",
       "      <th>TXAR.BA</th>\n",
       "      <th>VALO.BA</th>\n",
       "      <th>YPFD.BA</th>\n",
       "      <th>^MERV</th>\n",
       "    </tr>\n",
       "    <tr>\n",
       "      <th>Date</th>\n",
       "      <th></th>\n",
       "      <th></th>\n",
       "      <th></th>\n",
       "      <th></th>\n",
       "      <th></th>\n",
       "      <th></th>\n",
       "      <th></th>\n",
       "      <th></th>\n",
       "      <th></th>\n",
       "      <th></th>\n",
       "      <th></th>\n",
       "      <th></th>\n",
       "      <th></th>\n",
       "      <th></th>\n",
       "      <th></th>\n",
       "      <th></th>\n",
       "      <th></th>\n",
       "      <th></th>\n",
       "      <th></th>\n",
       "      <th></th>\n",
       "      <th></th>\n",
       "    </tr>\n",
       "  </thead>\n",
       "  <tbody>\n",
       "    <tr>\n",
       "      <th>2011-01-03</th>\n",
       "      <td>64087.0</td>\n",
       "      <td>442460.0</td>\n",
       "      <td>295956.0</td>\n",
       "      <td>728413.0</td>\n",
       "      <td>530929.0</td>\n",
       "      <td>39434.0</td>\n",
       "      <td>625664.0</td>\n",
       "      <td>805570.0</td>\n",
       "      <td>38540.0</td>\n",
       "      <td>119096.0</td>\n",
       "      <td>...</td>\n",
       "      <td>NaN</td>\n",
       "      <td>458812.0</td>\n",
       "      <td>5300.0</td>\n",
       "      <td>231351.0</td>\n",
       "      <td>103625.0</td>\n",
       "      <td>849791.0</td>\n",
       "      <td>0.0</td>\n",
       "      <td>0.0</td>\n",
       "      <td>24010.0</td>\n",
       "      <td>0.0</td>\n",
       "    </tr>\n",
       "    <tr>\n",
       "      <th>2011-01-04</th>\n",
       "      <td>231304.0</td>\n",
       "      <td>748780.0</td>\n",
       "      <td>190294.0</td>\n",
       "      <td>510378.0</td>\n",
       "      <td>1529600.0</td>\n",
       "      <td>68600.0</td>\n",
       "      <td>447899.0</td>\n",
       "      <td>550500.0</td>\n",
       "      <td>27968.0</td>\n",
       "      <td>42176.0</td>\n",
       "      <td>...</td>\n",
       "      <td>NaN</td>\n",
       "      <td>640400.0</td>\n",
       "      <td>0.0</td>\n",
       "      <td>301411.0</td>\n",
       "      <td>226696.0</td>\n",
       "      <td>1255800.0</td>\n",
       "      <td>0.0</td>\n",
       "      <td>0.0</td>\n",
       "      <td>33800.0</td>\n",
       "      <td>0.0</td>\n",
       "    </tr>\n",
       "    <tr>\n",
       "      <th>2011-01-05</th>\n",
       "      <td>48958.0</td>\n",
       "      <td>1085414.0</td>\n",
       "      <td>464795.0</td>\n",
       "      <td>286200.0</td>\n",
       "      <td>545000.0</td>\n",
       "      <td>196700.0</td>\n",
       "      <td>590624.0</td>\n",
       "      <td>276600.0</td>\n",
       "      <td>25432.0</td>\n",
       "      <td>61680.0</td>\n",
       "      <td>...</td>\n",
       "      <td>NaN</td>\n",
       "      <td>558600.0</td>\n",
       "      <td>200.0</td>\n",
       "      <td>125368.0</td>\n",
       "      <td>79666.0</td>\n",
       "      <td>1091000.0</td>\n",
       "      <td>0.0</td>\n",
       "      <td>0.0</td>\n",
       "      <td>33400.0</td>\n",
       "      <td>0.0</td>\n",
       "    </tr>\n",
       "    <tr>\n",
       "      <th>2011-01-06</th>\n",
       "      <td>371354.0</td>\n",
       "      <td>2103713.0</td>\n",
       "      <td>428810.0</td>\n",
       "      <td>266799.0</td>\n",
       "      <td>469207.0</td>\n",
       "      <td>108161.0</td>\n",
       "      <td>879104.0</td>\n",
       "      <td>270587.0</td>\n",
       "      <td>57916.0</td>\n",
       "      <td>84328.0</td>\n",
       "      <td>...</td>\n",
       "      <td>NaN</td>\n",
       "      <td>1376323.0</td>\n",
       "      <td>0.0</td>\n",
       "      <td>184153.0</td>\n",
       "      <td>55634.0</td>\n",
       "      <td>897978.0</td>\n",
       "      <td>0.0</td>\n",
       "      <td>0.0</td>\n",
       "      <td>27552.0</td>\n",
       "      <td>0.0</td>\n",
       "    </tr>\n",
       "    <tr>\n",
       "      <th>2011-01-07</th>\n",
       "      <td>249620.0</td>\n",
       "      <td>826858.0</td>\n",
       "      <td>87821.0</td>\n",
       "      <td>162893.0</td>\n",
       "      <td>438617.0</td>\n",
       "      <td>64583.0</td>\n",
       "      <td>542099.0</td>\n",
       "      <td>238431.0</td>\n",
       "      <td>29596.0</td>\n",
       "      <td>27680.0</td>\n",
       "      <td>...</td>\n",
       "      <td>NaN</td>\n",
       "      <td>1183607.0</td>\n",
       "      <td>4500.0</td>\n",
       "      <td>107144.0</td>\n",
       "      <td>21705.0</td>\n",
       "      <td>453373.0</td>\n",
       "      <td>0.0</td>\n",
       "      <td>0.0</td>\n",
       "      <td>14688.0</td>\n",
       "      <td>0.0</td>\n",
       "    </tr>\n",
       "    <tr>\n",
       "      <th>...</th>\n",
       "      <td>...</td>\n",
       "      <td>...</td>\n",
       "      <td>...</td>\n",
       "      <td>...</td>\n",
       "      <td>...</td>\n",
       "      <td>...</td>\n",
       "      <td>...</td>\n",
       "      <td>...</td>\n",
       "      <td>...</td>\n",
       "      <td>...</td>\n",
       "      <td>...</td>\n",
       "      <td>...</td>\n",
       "      <td>...</td>\n",
       "      <td>...</td>\n",
       "      <td>...</td>\n",
       "      <td>...</td>\n",
       "      <td>...</td>\n",
       "      <td>...</td>\n",
       "      <td>...</td>\n",
       "      <td>...</td>\n",
       "      <td>...</td>\n",
       "    </tr>\n",
       "    <tr>\n",
       "      <th>2021-02-22</th>\n",
       "      <td>75420.0</td>\n",
       "      <td>762610.0</td>\n",
       "      <td>4091.0</td>\n",
       "      <td>0.0</td>\n",
       "      <td>66726.0</td>\n",
       "      <td>201968.0</td>\n",
       "      <td>520375.0</td>\n",
       "      <td>1511.0</td>\n",
       "      <td>17990.0</td>\n",
       "      <td>1000.0</td>\n",
       "      <td>...</td>\n",
       "      <td>2069366.0</td>\n",
       "      <td>134165.0</td>\n",
       "      <td>398291.0</td>\n",
       "      <td>55314.0</td>\n",
       "      <td>33691.0</td>\n",
       "      <td>90129.0</td>\n",
       "      <td>0.0</td>\n",
       "      <td>7344103.0</td>\n",
       "      <td>287376.0</td>\n",
       "      <td>0.0</td>\n",
       "    </tr>\n",
       "    <tr>\n",
       "      <th>2021-02-23</th>\n",
       "      <td>33163.0</td>\n",
       "      <td>540945.0</td>\n",
       "      <td>2743.0</td>\n",
       "      <td>0.0</td>\n",
       "      <td>102531.0</td>\n",
       "      <td>236366.0</td>\n",
       "      <td>742405.0</td>\n",
       "      <td>1601.0</td>\n",
       "      <td>716.0</td>\n",
       "      <td>641.0</td>\n",
       "      <td>...</td>\n",
       "      <td>2451997.0</td>\n",
       "      <td>81384.0</td>\n",
       "      <td>129949.0</td>\n",
       "      <td>92590.0</td>\n",
       "      <td>50991.0</td>\n",
       "      <td>189310.0</td>\n",
       "      <td>0.0</td>\n",
       "      <td>219110.0</td>\n",
       "      <td>181993.0</td>\n",
       "      <td>0.0</td>\n",
       "    </tr>\n",
       "    <tr>\n",
       "      <th>2021-02-24</th>\n",
       "      <td>30885.0</td>\n",
       "      <td>483546.0</td>\n",
       "      <td>4770.0</td>\n",
       "      <td>0.0</td>\n",
       "      <td>51303.0</td>\n",
       "      <td>121766.0</td>\n",
       "      <td>283247.0</td>\n",
       "      <td>1435.0</td>\n",
       "      <td>1162.0</td>\n",
       "      <td>0.0</td>\n",
       "      <td>...</td>\n",
       "      <td>638983.0</td>\n",
       "      <td>73824.0</td>\n",
       "      <td>257393.0</td>\n",
       "      <td>163313.0</td>\n",
       "      <td>45937.0</td>\n",
       "      <td>191488.0</td>\n",
       "      <td>0.0</td>\n",
       "      <td>106677.0</td>\n",
       "      <td>208800.0</td>\n",
       "      <td>0.0</td>\n",
       "    </tr>\n",
       "    <tr>\n",
       "      <th>2021-02-25</th>\n",
       "      <td>35903.0</td>\n",
       "      <td>452326.0</td>\n",
       "      <td>5956.0</td>\n",
       "      <td>0.0</td>\n",
       "      <td>34534.0</td>\n",
       "      <td>121646.0</td>\n",
       "      <td>382392.0</td>\n",
       "      <td>2024.0</td>\n",
       "      <td>3198.0</td>\n",
       "      <td>0.0</td>\n",
       "      <td>...</td>\n",
       "      <td>1317801.0</td>\n",
       "      <td>118930.0</td>\n",
       "      <td>110065.0</td>\n",
       "      <td>40878.0</td>\n",
       "      <td>29823.0</td>\n",
       "      <td>132635.0</td>\n",
       "      <td>0.0</td>\n",
       "      <td>95240.0</td>\n",
       "      <td>242541.0</td>\n",
       "      <td>0.0</td>\n",
       "    </tr>\n",
       "    <tr>\n",
       "      <th>2021-02-26</th>\n",
       "      <td>49062.0</td>\n",
       "      <td>111413.0</td>\n",
       "      <td>7953.0</td>\n",
       "      <td>0.0</td>\n",
       "      <td>32649.0</td>\n",
       "      <td>184771.0</td>\n",
       "      <td>781994.0</td>\n",
       "      <td>6831.0</td>\n",
       "      <td>9576.0</td>\n",
       "      <td>100.0</td>\n",
       "      <td>...</td>\n",
       "      <td>407214.0</td>\n",
       "      <td>31801.0</td>\n",
       "      <td>132952.0</td>\n",
       "      <td>91670.0</td>\n",
       "      <td>19795.0</td>\n",
       "      <td>67498.0</td>\n",
       "      <td>0.0</td>\n",
       "      <td>258275.0</td>\n",
       "      <td>104182.0</td>\n",
       "      <td>0.0</td>\n",
       "    </tr>\n",
       "  </tbody>\n",
       "</table>\n",
       "<p>2479 rows × 72 columns</p>\n",
       "</div>"
      ],
      "text/plain": [
       "             AGRO.BA    ALUA.BA   AUSO.BA   BBAR.BA    BHIP.BA    BMA.BA  \\\n",
       "Date                                                                       \n",
       "2011-01-03   64087.0   442460.0  295956.0  728413.0   530929.0   39434.0   \n",
       "2011-01-04  231304.0   748780.0  190294.0  510378.0  1529600.0   68600.0   \n",
       "2011-01-05   48958.0  1085414.0  464795.0  286200.0   545000.0  196700.0   \n",
       "2011-01-06  371354.0  2103713.0  428810.0  266799.0   469207.0  108161.0   \n",
       "2011-01-07  249620.0   826858.0   87821.0  162893.0   438617.0   64583.0   \n",
       "...              ...        ...       ...       ...        ...       ...   \n",
       "2021-02-22   75420.0   762610.0    4091.0       0.0    66726.0  201968.0   \n",
       "2021-02-23   33163.0   540945.0    2743.0       0.0   102531.0  236366.0   \n",
       "2021-02-24   30885.0   483546.0    4770.0       0.0    51303.0  121766.0   \n",
       "2021-02-25   35903.0   452326.0    5956.0       0.0    34534.0  121646.0   \n",
       "2021-02-26   49062.0   111413.0    7953.0       0.0    32649.0  184771.0   \n",
       "\n",
       "             BOLT.BA   BPAT.BA  BRIO.BA  BRIO6.BA  ...    SUPV.BA   TECO2.BA  \\\n",
       "Date                                               ...                         \n",
       "2011-01-03  625664.0  805570.0  38540.0  119096.0  ...        NaN   458812.0   \n",
       "2011-01-04  447899.0  550500.0  27968.0   42176.0  ...        NaN   640400.0   \n",
       "2011-01-05  590624.0  276600.0  25432.0   61680.0  ...        NaN   558600.0   \n",
       "2011-01-06  879104.0  270587.0  57916.0   84328.0  ...        NaN  1376323.0   \n",
       "2011-01-07  542099.0  238431.0  29596.0   27680.0  ...        NaN  1183607.0   \n",
       "...              ...       ...      ...       ...  ...        ...        ...   \n",
       "2021-02-22  520375.0    1511.0  17990.0    1000.0  ...  2069366.0   134165.0   \n",
       "2021-02-23  742405.0    1601.0    716.0     641.0  ...  2451997.0    81384.0   \n",
       "2021-02-24  283247.0    1435.0   1162.0       0.0  ...   638983.0    73824.0   \n",
       "2021-02-25  382392.0    2024.0   3198.0       0.0  ...  1317801.0   118930.0   \n",
       "2021-02-26  781994.0    6831.0   9576.0     100.0  ...   407214.0    31801.0   \n",
       "\n",
       "             TGLT.BA  TGNO4.BA  TGSU2.BA    TRAN.BA  TXAR.BA    VALO.BA  \\\n",
       "Date                                                                      \n",
       "2011-01-03    5300.0  231351.0  103625.0   849791.0      0.0        0.0   \n",
       "2011-01-04       0.0  301411.0  226696.0  1255800.0      0.0        0.0   \n",
       "2011-01-05     200.0  125368.0   79666.0  1091000.0      0.0        0.0   \n",
       "2011-01-06       0.0  184153.0   55634.0   897978.0      0.0        0.0   \n",
       "2011-01-07    4500.0  107144.0   21705.0   453373.0      0.0        0.0   \n",
       "...              ...       ...       ...        ...      ...        ...   \n",
       "2021-02-22  398291.0   55314.0   33691.0    90129.0      0.0  7344103.0   \n",
       "2021-02-23  129949.0   92590.0   50991.0   189310.0      0.0   219110.0   \n",
       "2021-02-24  257393.0  163313.0   45937.0   191488.0      0.0   106677.0   \n",
       "2021-02-25  110065.0   40878.0   29823.0   132635.0      0.0    95240.0   \n",
       "2021-02-26  132952.0   91670.0   19795.0    67498.0      0.0   258275.0   \n",
       "\n",
       "             YPFD.BA  ^MERV  \n",
       "Date                         \n",
       "2011-01-03   24010.0    0.0  \n",
       "2011-01-04   33800.0    0.0  \n",
       "2011-01-05   33400.0    0.0  \n",
       "2011-01-06   27552.0    0.0  \n",
       "2011-01-07   14688.0    0.0  \n",
       "...              ...    ...  \n",
       "2021-02-22  287376.0    0.0  \n",
       "2021-02-23  181993.0    0.0  \n",
       "2021-02-24  208800.0    0.0  \n",
       "2021-02-25  242541.0    0.0  \n",
       "2021-02-26  104182.0    0.0  \n",
       "\n",
       "[2479 rows x 72 columns]"
      ]
     },
     "execution_count": 16,
     "metadata": {},
     "output_type": "execute_result"
    }
   ],
   "source": [
    "stock_final_volume"
   ]
  },
  {
   "cell_type": "code",
   "execution_count": 17,
   "id": "dirty-wallet",
   "metadata": {},
   "outputs": [],
   "source": [
    "stock_final.to_csv(os.path.join( data_dir, \"yahoo_data.csv\"))\n",
    "stock_final_close_price.to_csv(os.path.join( data_dir, \"closes.csv\"))\n",
    "stock_final_volume.to_csv(os.path.join( data_dir, \"volume.csv\"))"
   ]
  }
 ],
 "metadata": {
  "kernelspec": {
   "display_name": "Python 3",
   "language": "python",
   "name": "python3"
  },
  "language_info": {
   "codemirror_mode": {
    "name": "ipython",
    "version": 3
   },
   "file_extension": ".py",
   "mimetype": "text/x-python",
   "name": "python",
   "nbconvert_exporter": "python",
   "pygments_lexer": "ipython3",
   "version": "3.8.8"
  }
 },
 "nbformat": 4,
 "nbformat_minor": 5
}
